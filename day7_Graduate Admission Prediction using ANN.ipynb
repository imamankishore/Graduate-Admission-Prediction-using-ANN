{
 "cells": [
  {
   "cell_type": "code",
   "execution_count": 1,
   "id": "5c05efdf-476a-4b8e-9e01-8f1e1ab07ab1",
   "metadata": {},
   "outputs": [
    {
     "name": "stdout",
     "output_type": "stream",
     "text": [
      "Downloading from https://www.kaggle.com/api/v1/datasets/download/mohansacharya/graduate-admissions?dataset_version_number=2...\n"
     ]
    },
    {
     "name": "stderr",
     "output_type": "stream",
     "text": [
      "100%|██████████████████████████████████████████████████████████████████████████████| 9.64k/9.64k [00:00<00:00, 521kB/s]"
     ]
    },
    {
     "name": "stdout",
     "output_type": "stream",
     "text": [
      "Extracting files...\n",
      "Path to dataset files: C:\\Users\\itsam\\.cache\\kagglehub\\datasets\\mohansacharya\\graduate-admissions\\versions\\2\n"
     ]
    },
    {
     "name": "stderr",
     "output_type": "stream",
     "text": [
      "\n"
     ]
    }
   ],
   "source": [
    "import kagglehub\n",
    "\n",
    "# Download latest version\n",
    "path = kagglehub.dataset_download(\"mohansacharya/graduate-admissions\")\n",
    "\n",
    "print(\"Path to dataset files:\", path)"
   ]
  },
  {
   "cell_type": "code",
   "execution_count": 166,
   "id": "10811f8a-e212-49aa-9698-3217d789fcfd",
   "metadata": {},
   "outputs": [],
   "source": [
    "import pandas as pd\n",
    "import numpy as np"
   ]
  },
  {
   "cell_type": "code",
   "execution_count": 167,
   "id": "e166f159-aa0b-45f5-a7a8-26e6fe284441",
   "metadata": {},
   "outputs": [],
   "source": [
    "df = pd.read_csv('Admission_Predict_Ver1.1.csv')"
   ]
  },
  {
   "cell_type": "code",
   "execution_count": 168,
   "id": "8f01771e-4fe0-405c-9c74-2a723fcf764e",
   "metadata": {},
   "outputs": [
    {
     "data": {
      "text/html": [
       "<div>\n",
       "<style scoped>\n",
       "    .dataframe tbody tr th:only-of-type {\n",
       "        vertical-align: middle;\n",
       "    }\n",
       "\n",
       "    .dataframe tbody tr th {\n",
       "        vertical-align: top;\n",
       "    }\n",
       "\n",
       "    .dataframe thead th {\n",
       "        text-align: right;\n",
       "    }\n",
       "</style>\n",
       "<table border=\"1\" class=\"dataframe\">\n",
       "  <thead>\n",
       "    <tr style=\"text-align: right;\">\n",
       "      <th></th>\n",
       "      <th>Serial No.</th>\n",
       "      <th>GRE Score</th>\n",
       "      <th>TOEFL Score</th>\n",
       "      <th>University Rating</th>\n",
       "      <th>SOP</th>\n",
       "      <th>LOR</th>\n",
       "      <th>CGPA</th>\n",
       "      <th>Research</th>\n",
       "      <th>Chance of Admit</th>\n",
       "    </tr>\n",
       "  </thead>\n",
       "  <tbody>\n",
       "    <tr>\n",
       "      <th>0</th>\n",
       "      <td>1</td>\n",
       "      <td>337</td>\n",
       "      <td>118</td>\n",
       "      <td>4</td>\n",
       "      <td>4.5</td>\n",
       "      <td>4.5</td>\n",
       "      <td>9.65</td>\n",
       "      <td>1</td>\n",
       "      <td>0.92</td>\n",
       "    </tr>\n",
       "    <tr>\n",
       "      <th>1</th>\n",
       "      <td>2</td>\n",
       "      <td>324</td>\n",
       "      <td>107</td>\n",
       "      <td>4</td>\n",
       "      <td>4.0</td>\n",
       "      <td>4.5</td>\n",
       "      <td>8.87</td>\n",
       "      <td>1</td>\n",
       "      <td>0.76</td>\n",
       "    </tr>\n",
       "    <tr>\n",
       "      <th>2</th>\n",
       "      <td>3</td>\n",
       "      <td>316</td>\n",
       "      <td>104</td>\n",
       "      <td>3</td>\n",
       "      <td>3.0</td>\n",
       "      <td>3.5</td>\n",
       "      <td>8.00</td>\n",
       "      <td>1</td>\n",
       "      <td>0.72</td>\n",
       "    </tr>\n",
       "    <tr>\n",
       "      <th>3</th>\n",
       "      <td>4</td>\n",
       "      <td>322</td>\n",
       "      <td>110</td>\n",
       "      <td>3</td>\n",
       "      <td>3.5</td>\n",
       "      <td>2.5</td>\n",
       "      <td>8.67</td>\n",
       "      <td>1</td>\n",
       "      <td>0.80</td>\n",
       "    </tr>\n",
       "    <tr>\n",
       "      <th>4</th>\n",
       "      <td>5</td>\n",
       "      <td>314</td>\n",
       "      <td>103</td>\n",
       "      <td>2</td>\n",
       "      <td>2.0</td>\n",
       "      <td>3.0</td>\n",
       "      <td>8.21</td>\n",
       "      <td>0</td>\n",
       "      <td>0.65</td>\n",
       "    </tr>\n",
       "  </tbody>\n",
       "</table>\n",
       "</div>"
      ],
      "text/plain": [
       "   Serial No.  GRE Score  TOEFL Score  University Rating  SOP  LOR   CGPA  \\\n",
       "0           1        337          118                  4  4.5   4.5  9.65   \n",
       "1           2        324          107                  4  4.0   4.5  8.87   \n",
       "2           3        316          104                  3  3.0   3.5  8.00   \n",
       "3           4        322          110                  3  3.5   2.5  8.67   \n",
       "4           5        314          103                  2  2.0   3.0  8.21   \n",
       "\n",
       "   Research  Chance of Admit   \n",
       "0         1              0.92  \n",
       "1         1              0.76  \n",
       "2         1              0.72  \n",
       "3         1              0.80  \n",
       "4         0              0.65  "
      ]
     },
     "execution_count": 168,
     "metadata": {},
     "output_type": "execute_result"
    }
   ],
   "source": [
    "df.head()"
   ]
  },
  {
   "cell_type": "code",
   "execution_count": 169,
   "id": "23ad8382-c028-4407-aa8f-abde18c7f415",
   "metadata": {},
   "outputs": [
    {
     "data": {
      "text/plain": [
       "(500, 9)"
      ]
     },
     "execution_count": 169,
     "metadata": {},
     "output_type": "execute_result"
    }
   ],
   "source": [
    "  df.shape"
   ]
  },
  {
   "cell_type": "code",
   "execution_count": 170,
   "id": "7b61623a-96fa-439c-9a5f-412ccd88de56",
   "metadata": {},
   "outputs": [
    {
     "name": "stdout",
     "output_type": "stream",
     "text": [
      "<class 'pandas.core.frame.DataFrame'>\n",
      "RangeIndex: 500 entries, 0 to 499\n",
      "Data columns (total 9 columns):\n",
      " #   Column             Non-Null Count  Dtype  \n",
      "---  ------             --------------  -----  \n",
      " 0   Serial No.         500 non-null    int64  \n",
      " 1   GRE Score          500 non-null    int64  \n",
      " 2   TOEFL Score        500 non-null    int64  \n",
      " 3   University Rating  500 non-null    int64  \n",
      " 4   SOP                500 non-null    float64\n",
      " 5   LOR                500 non-null    float64\n",
      " 6   CGPA               500 non-null    float64\n",
      " 7   Research           500 non-null    int64  \n",
      " 8   Chance of Admit    500 non-null    float64\n",
      "dtypes: float64(4), int64(5)\n",
      "memory usage: 35.3 KB\n"
     ]
    }
   ],
   "source": [
    "df.info()"
   ]
  },
  {
   "cell_type": "code",
   "execution_count": 171,
   "id": "b6df5939-0919-4d49-ba8a-d28acc208672",
   "metadata": {},
   "outputs": [
    {
     "data": {
      "text/plain": [
       "0"
      ]
     },
     "execution_count": 171,
     "metadata": {},
     "output_type": "execute_result"
    }
   ],
   "source": [
    "df.duplicated().sum()"
   ]
  },
  {
   "cell_type": "code",
   "execution_count": 172,
   "id": "2e1dd943-ca6c-4bd0-9318-9371e3777ea2",
   "metadata": {},
   "outputs": [],
   "source": [
    "df.drop(columns=['Serial No.'] , inplace=True)"
   ]
  },
  {
   "cell_type": "code",
   "execution_count": 173,
   "id": "eea237b2-7a40-4506-bccb-0d2ae4aa5ece",
   "metadata": {},
   "outputs": [
    {
     "data": {
      "text/html": [
       "<div>\n",
       "<style scoped>\n",
       "    .dataframe tbody tr th:only-of-type {\n",
       "        vertical-align: middle;\n",
       "    }\n",
       "\n",
       "    .dataframe tbody tr th {\n",
       "        vertical-align: top;\n",
       "    }\n",
       "\n",
       "    .dataframe thead th {\n",
       "        text-align: right;\n",
       "    }\n",
       "</style>\n",
       "<table border=\"1\" class=\"dataframe\">\n",
       "  <thead>\n",
       "    <tr style=\"text-align: right;\">\n",
       "      <th></th>\n",
       "      <th>GRE Score</th>\n",
       "      <th>TOEFL Score</th>\n",
       "      <th>University Rating</th>\n",
       "      <th>SOP</th>\n",
       "      <th>LOR</th>\n",
       "      <th>CGPA</th>\n",
       "      <th>Research</th>\n",
       "      <th>Chance of Admit</th>\n",
       "    </tr>\n",
       "  </thead>\n",
       "  <tbody>\n",
       "    <tr>\n",
       "      <th>0</th>\n",
       "      <td>337</td>\n",
       "      <td>118</td>\n",
       "      <td>4</td>\n",
       "      <td>4.5</td>\n",
       "      <td>4.5</td>\n",
       "      <td>9.65</td>\n",
       "      <td>1</td>\n",
       "      <td>0.92</td>\n",
       "    </tr>\n",
       "    <tr>\n",
       "      <th>1</th>\n",
       "      <td>324</td>\n",
       "      <td>107</td>\n",
       "      <td>4</td>\n",
       "      <td>4.0</td>\n",
       "      <td>4.5</td>\n",
       "      <td>8.87</td>\n",
       "      <td>1</td>\n",
       "      <td>0.76</td>\n",
       "    </tr>\n",
       "    <tr>\n",
       "      <th>2</th>\n",
       "      <td>316</td>\n",
       "      <td>104</td>\n",
       "      <td>3</td>\n",
       "      <td>3.0</td>\n",
       "      <td>3.5</td>\n",
       "      <td>8.00</td>\n",
       "      <td>1</td>\n",
       "      <td>0.72</td>\n",
       "    </tr>\n",
       "    <tr>\n",
       "      <th>3</th>\n",
       "      <td>322</td>\n",
       "      <td>110</td>\n",
       "      <td>3</td>\n",
       "      <td>3.5</td>\n",
       "      <td>2.5</td>\n",
       "      <td>8.67</td>\n",
       "      <td>1</td>\n",
       "      <td>0.80</td>\n",
       "    </tr>\n",
       "    <tr>\n",
       "      <th>4</th>\n",
       "      <td>314</td>\n",
       "      <td>103</td>\n",
       "      <td>2</td>\n",
       "      <td>2.0</td>\n",
       "      <td>3.0</td>\n",
       "      <td>8.21</td>\n",
       "      <td>0</td>\n",
       "      <td>0.65</td>\n",
       "    </tr>\n",
       "  </tbody>\n",
       "</table>\n",
       "</div>"
      ],
      "text/plain": [
       "   GRE Score  TOEFL Score  University Rating  SOP  LOR   CGPA  Research  \\\n",
       "0        337          118                  4  4.5   4.5  9.65         1   \n",
       "1        324          107                  4  4.0   4.5  8.87         1   \n",
       "2        316          104                  3  3.0   3.5  8.00         1   \n",
       "3        322          110                  3  3.5   2.5  8.67         1   \n",
       "4        314          103                  2  2.0   3.0  8.21         0   \n",
       "\n",
       "   Chance of Admit   \n",
       "0              0.92  \n",
       "1              0.76  \n",
       "2              0.72  \n",
       "3              0.80  \n",
       "4              0.65  "
      ]
     },
     "execution_count": 173,
     "metadata": {},
     "output_type": "execute_result"
    }
   ],
   "source": [
    "df.head()"
   ]
  },
  {
   "cell_type": "code",
   "execution_count": 174,
   "id": "c8e03854-3df2-4a4f-8a06-5becb4cccc5d",
   "metadata": {},
   "outputs": [],
   "source": [
    "X = df.iloc[:,:-1]\n",
    "y= df.iloc[:,-1]"
   ]
  },
  {
   "cell_type": "code",
   "execution_count": 175,
   "id": "76955031-0fc9-4968-960b-337be6e18dbe",
   "metadata": {},
   "outputs": [],
   "source": [
    "from sklearn.model_selection import train_test_split"
   ]
  },
  {
   "cell_type": "code",
   "execution_count": 176,
   "id": "0b84c541-2895-4290-8534-ee37fe094a7f",
   "metadata": {},
   "outputs": [],
   "source": [
    "X_train ,X_test , y_train , y_test = train_test_split(X,y,\n",
    "                                                     test_size=0.2,\n",
    "                                                     random_state=42)"
   ]
  },
  {
   "cell_type": "code",
   "execution_count": 177,
   "id": "2a88b35e-da40-40e2-8611-66e96fdfbfa8",
   "metadata": {},
   "outputs": [],
   "source": [
    "from sklearn.preprocessing import MinMaxScaler"
   ]
  },
  {
   "cell_type": "code",
   "execution_count": 178,
   "id": "dd56a636-68e6-49a8-9278-b211c35f3e41",
   "metadata": {},
   "outputs": [],
   "source": [
    "scaler = MinMaxScaler()"
   ]
  },
  {
   "cell_type": "code",
   "execution_count": 179,
   "id": "f2949907-eb6f-47cb-9c3e-67f24db9c4ce",
   "metadata": {},
   "outputs": [],
   "source": [
    "X_train = scaler.fit_transform(X_train)"
   ]
  },
  {
   "cell_type": "code",
   "execution_count": 180,
   "id": "c34e0e7b-3388-424a-9227-b4e6b028a838",
   "metadata": {},
   "outputs": [],
   "source": [
    "X_test = scaler.transform(X_test)"
   ]
  },
  {
   "cell_type": "code",
   "execution_count": 181,
   "id": "e7110481-0b87-42f3-be2f-c3331008e758",
   "metadata": {},
   "outputs": [
    {
     "data": {
      "text/plain": [
       "array([[0.62      , 0.67857143, 0.5       , ..., 0.71428571, 0.65064103,\n",
       "        1.        ],\n",
       "       [0.52      , 0.67857143, 0.75      , ..., 1.        , 0.55769231,\n",
       "        0.        ],\n",
       "       [0.26      , 0.35714286, 0.5       , ..., 0.42857143, 0.54487179,\n",
       "        0.        ],\n",
       "       ...,\n",
       "       [0.24      , 0.25      , 0.        , ..., 0.14285714, 0.14423077,\n",
       "        0.        ],\n",
       "       [0.38      , 0.46428571, 0.25      , ..., 0.71428571, 0.28205128,\n",
       "        0.        ],\n",
       "       [0.48      , 0.5       , 0.25      , ..., 0.57142857, 0.46474359,\n",
       "        0.        ]])"
      ]
     },
     "execution_count": 181,
     "metadata": {},
     "output_type": "execute_result"
    }
   ],
   "source": [
    "X_train"
   ]
  },
  {
   "cell_type": "code",
   "execution_count": 182,
   "id": "873d782a-7c8e-4d43-8589-985d351eb77c",
   "metadata": {},
   "outputs": [],
   "source": [
    "import tensorflow \n",
    "from tensorflow import keras\n",
    "from keras import Sequential\n",
    "from keras.layers import Dense"
   ]
  },
  {
   "cell_type": "code",
   "execution_count": 189,
   "id": "21baed3c-f011-45a6-9ff3-c9d27d0edc02",
   "metadata": {},
   "outputs": [],
   "source": [
    "model = Sequential()"
   ]
  },
  {
   "cell_type": "code",
   "execution_count": 190,
   "id": "682f4749-964c-48aa-aa20-64972c451311",
   "metadata": {},
   "outputs": [
    {
     "name": "stderr",
     "output_type": "stream",
     "text": [
      "C:\\Users\\itsam\\anaconda3\\Lib\\site-packages\\keras\\src\\layers\\core\\dense.py:93: UserWarning: Do not pass an `input_shape`/`input_dim` argument to a layer. When using Sequential models, prefer using an `Input(shape)` object as the first layer in the model instead.\n",
      "  super().__init__(activity_regularizer=activity_regularizer, **kwargs)\n"
     ]
    }
   ],
   "source": [
    "model.add(Dense(7 , activation='relu', input_dim=7))\n",
    "model.add(Dense(7 , activation='relu' , input_dim=7))\n",
    "model.add(Dense(1, activation='linear'))"
   ]
  },
  {
   "cell_type": "code",
   "execution_count": 191,
   "id": "06251020-f40b-415c-8a46-c2b9527e5f20",
   "metadata": {},
   "outputs": [
    {
     "data": {
      "text/html": [
       "<pre style=\"white-space:pre;overflow-x:auto;line-height:normal;font-family:Menlo,'DejaVu Sans Mono',consolas,'Courier New',monospace\"><span style=\"font-weight: bold\">Model: \"sequential_11\"</span>\n",
       "</pre>\n"
      ],
      "text/plain": [
       "\u001b[1mModel: \"sequential_11\"\u001b[0m\n"
      ]
     },
     "metadata": {},
     "output_type": "display_data"
    },
    {
     "data": {
      "text/html": [
       "<pre style=\"white-space:pre;overflow-x:auto;line-height:normal;font-family:Menlo,'DejaVu Sans Mono',consolas,'Courier New',monospace\">┏━━━━━━━━━━━━━━━━━━━━━━━━━━━━━━━━━━━━━━┳━━━━━━━━━━━━━━━━━━━━━━━━━━━━━┳━━━━━━━━━━━━━━━━━┓\n",
       "┃<span style=\"font-weight: bold\"> Layer (type)                         </span>┃<span style=\"font-weight: bold\"> Output Shape                </span>┃<span style=\"font-weight: bold\">         Param # </span>┃\n",
       "┡━━━━━━━━━━━━━━━━━━━━━━━━━━━━━━━━━━━━━━╇━━━━━━━━━━━━━━━━━━━━━━━━━━━━━╇━━━━━━━━━━━━━━━━━┩\n",
       "│ dense_55 (<span style=\"color: #0087ff; text-decoration-color: #0087ff\">Dense</span>)                     │ (<span style=\"color: #00d7ff; text-decoration-color: #00d7ff\">None</span>, <span style=\"color: #00af00; text-decoration-color: #00af00\">7</span>)                   │              <span style=\"color: #00af00; text-decoration-color: #00af00\">56</span> │\n",
       "├──────────────────────────────────────┼─────────────────────────────┼─────────────────┤\n",
       "│ dense_56 (<span style=\"color: #0087ff; text-decoration-color: #0087ff\">Dense</span>)                     │ (<span style=\"color: #00d7ff; text-decoration-color: #00d7ff\">None</span>, <span style=\"color: #00af00; text-decoration-color: #00af00\">7</span>)                   │              <span style=\"color: #00af00; text-decoration-color: #00af00\">56</span> │\n",
       "├──────────────────────────────────────┼─────────────────────────────┼─────────────────┤\n",
       "│ dense_57 (<span style=\"color: #0087ff; text-decoration-color: #0087ff\">Dense</span>)                     │ (<span style=\"color: #00d7ff; text-decoration-color: #00d7ff\">None</span>, <span style=\"color: #00af00; text-decoration-color: #00af00\">1</span>)                   │               <span style=\"color: #00af00; text-decoration-color: #00af00\">8</span> │\n",
       "└──────────────────────────────────────┴─────────────────────────────┴─────────────────┘\n",
       "</pre>\n"
      ],
      "text/plain": [
       "┏━━━━━━━━━━━━━━━━━━━━━━━━━━━━━━━━━━━━━━┳━━━━━━━━━━━━━━━━━━━━━━━━━━━━━┳━━━━━━━━━━━━━━━━━┓\n",
       "┃\u001b[1m \u001b[0m\u001b[1mLayer (type)                        \u001b[0m\u001b[1m \u001b[0m┃\u001b[1m \u001b[0m\u001b[1mOutput Shape               \u001b[0m\u001b[1m \u001b[0m┃\u001b[1m \u001b[0m\u001b[1m        Param #\u001b[0m\u001b[1m \u001b[0m┃\n",
       "┡━━━━━━━━━━━━━━━━━━━━━━━━━━━━━━━━━━━━━━╇━━━━━━━━━━━━━━━━━━━━━━━━━━━━━╇━━━━━━━━━━━━━━━━━┩\n",
       "│ dense_55 (\u001b[38;5;33mDense\u001b[0m)                     │ (\u001b[38;5;45mNone\u001b[0m, \u001b[38;5;34m7\u001b[0m)                   │              \u001b[38;5;34m56\u001b[0m │\n",
       "├──────────────────────────────────────┼─────────────────────────────┼─────────────────┤\n",
       "│ dense_56 (\u001b[38;5;33mDense\u001b[0m)                     │ (\u001b[38;5;45mNone\u001b[0m, \u001b[38;5;34m7\u001b[0m)                   │              \u001b[38;5;34m56\u001b[0m │\n",
       "├──────────────────────────────────────┼─────────────────────────────┼─────────────────┤\n",
       "│ dense_57 (\u001b[38;5;33mDense\u001b[0m)                     │ (\u001b[38;5;45mNone\u001b[0m, \u001b[38;5;34m1\u001b[0m)                   │               \u001b[38;5;34m8\u001b[0m │\n",
       "└──────────────────────────────────────┴─────────────────────────────┴─────────────────┘\n"
      ]
     },
     "metadata": {},
     "output_type": "display_data"
    },
    {
     "data": {
      "text/html": [
       "<pre style=\"white-space:pre;overflow-x:auto;line-height:normal;font-family:Menlo,'DejaVu Sans Mono',consolas,'Courier New',monospace\"><span style=\"font-weight: bold\"> Total params: </span><span style=\"color: #00af00; text-decoration-color: #00af00\">120</span> (480.00 B)\n",
       "</pre>\n"
      ],
      "text/plain": [
       "\u001b[1m Total params: \u001b[0m\u001b[38;5;34m120\u001b[0m (480.00 B)\n"
      ]
     },
     "metadata": {},
     "output_type": "display_data"
    },
    {
     "data": {
      "text/html": [
       "<pre style=\"white-space:pre;overflow-x:auto;line-height:normal;font-family:Menlo,'DejaVu Sans Mono',consolas,'Courier New',monospace\"><span style=\"font-weight: bold\"> Trainable params: </span><span style=\"color: #00af00; text-decoration-color: #00af00\">120</span> (480.00 B)\n",
       "</pre>\n"
      ],
      "text/plain": [
       "\u001b[1m Trainable params: \u001b[0m\u001b[38;5;34m120\u001b[0m (480.00 B)\n"
      ]
     },
     "metadata": {},
     "output_type": "display_data"
    },
    {
     "data": {
      "text/html": [
       "<pre style=\"white-space:pre;overflow-x:auto;line-height:normal;font-family:Menlo,'DejaVu Sans Mono',consolas,'Courier New',monospace\"><span style=\"font-weight: bold\"> Non-trainable params: </span><span style=\"color: #00af00; text-decoration-color: #00af00\">0</span> (0.00 B)\n",
       "</pre>\n"
      ],
      "text/plain": [
       "\u001b[1m Non-trainable params: \u001b[0m\u001b[38;5;34m0\u001b[0m (0.00 B)\n"
      ]
     },
     "metadata": {},
     "output_type": "display_data"
    }
   ],
   "source": [
    "model.summary()"
   ]
  },
  {
   "cell_type": "code",
   "execution_count": 192,
   "id": "d39c186a-afed-434b-a69a-e534d5b6d0e9",
   "metadata": {},
   "outputs": [],
   "source": [
    "model.compile(loss='mean_squared_error' , optimizer='Adam', metrics=['r2_score'])"
   ]
  },
  {
   "cell_type": "code",
   "execution_count": 193,
   "id": "2dc086bb-d0f1-4b3a-a69d-173e78f2136d",
   "metadata": {},
   "outputs": [
    {
     "name": "stdout",
     "output_type": "stream",
     "text": [
      "Epoch 1/100\n",
      "\u001b[1m10/10\u001b[0m \u001b[32m━━━━━━━━━━━━━━━━━━━━\u001b[0m\u001b[37m\u001b[0m \u001b[1m1s\u001b[0m 34ms/step - loss: 0.4295 - r2_score: -22.2929 - val_loss: 0.3645 - val_r2_score: -15.6750\n",
      "Epoch 2/100\n",
      "\u001b[1m10/10\u001b[0m \u001b[32m━━━━━━━━━━━━━━━━━━━━\u001b[0m\u001b[37m\u001b[0m \u001b[1m0s\u001b[0m 11ms/step - loss: 0.3270 - r2_score: -15.8531 - val_loss: 0.2645 - val_r2_score: -11.1033\n",
      "Epoch 3/100\n",
      "\u001b[1m10/10\u001b[0m \u001b[32m━━━━━━━━━━━━━━━━━━━━\u001b[0m\u001b[37m\u001b[0m \u001b[1m0s\u001b[0m 12ms/step - loss: 0.2380 - r2_score: -12.2965 - val_loss: 0.1649 - val_r2_score: -6.5450\n",
      "Epoch 4/100\n",
      "\u001b[1m10/10\u001b[0m \u001b[32m━━━━━━━━━━━━━━━━━━━━\u001b[0m\u001b[37m\u001b[0m \u001b[1m0s\u001b[0m 11ms/step - loss: 0.1506 - r2_score: -6.9393 - val_loss: 0.0915 - val_r2_score: -3.1846\n",
      "Epoch 5/100\n",
      "\u001b[1m10/10\u001b[0m \u001b[32m━━━━━━━━━━━━━━━━━━━━\u001b[0m\u001b[37m\u001b[0m \u001b[1m0s\u001b[0m 11ms/step - loss: 0.0963 - r2_score: -4.2742 - val_loss: 0.0582 - val_r2_score: -1.6608\n",
      "Epoch 6/100\n",
      "\u001b[1m10/10\u001b[0m \u001b[32m━━━━━━━━━━━━━━━━━━━━\u001b[0m\u001b[37m\u001b[0m \u001b[1m0s\u001b[0m 12ms/step - loss: 0.0601 - r2_score: -2.1529 - val_loss: 0.0448 - val_r2_score: -1.0518\n",
      "Epoch 7/100\n",
      "\u001b[1m10/10\u001b[0m \u001b[32m━━━━━━━━━━━━━━━━━━━━\u001b[0m\u001b[37m\u001b[0m \u001b[1m0s\u001b[0m 11ms/step - loss: 0.0481 - r2_score: -1.7217 - val_loss: 0.0340 - val_r2_score: -0.5557\n",
      "Epoch 8/100\n",
      "\u001b[1m10/10\u001b[0m \u001b[32m━━━━━━━━━━━━━━━━━━━━\u001b[0m\u001b[37m\u001b[0m \u001b[1m0s\u001b[0m 11ms/step - loss: 0.0328 - r2_score: -0.7821 - val_loss: 0.0253 - val_r2_score: -0.1571\n",
      "Epoch 9/100\n",
      "\u001b[1m10/10\u001b[0m \u001b[32m━━━━━━━━━━━━━━━━━━━━\u001b[0m\u001b[37m\u001b[0m \u001b[1m0s\u001b[0m 10ms/step - loss: 0.0292 - r2_score: -0.8215 - val_loss: 0.0205 - val_r2_score: 0.0603\n",
      "Epoch 10/100\n",
      "\u001b[1m10/10\u001b[0m \u001b[32m━━━━━━━━━━━━━━━━━━━━\u001b[0m\u001b[37m\u001b[0m \u001b[1m0s\u001b[0m 10ms/step - loss: 0.0268 - r2_score: -0.3995 - val_loss: 0.0174 - val_r2_score: 0.2031\n",
      "Epoch 11/100\n",
      "\u001b[1m10/10\u001b[0m \u001b[32m━━━━━━━━━━━━━━━━━━━━\u001b[0m\u001b[37m\u001b[0m \u001b[1m0s\u001b[0m 10ms/step - loss: 0.0220 - r2_score: -0.1957 - val_loss: 0.0150 - val_r2_score: 0.3158\n",
      "Epoch 12/100\n",
      "\u001b[1m10/10\u001b[0m \u001b[32m━━━━━━━━━━━━━━━━━━━━\u001b[0m\u001b[37m\u001b[0m \u001b[1m0s\u001b[0m 10ms/step - loss: 0.0175 - r2_score: 0.1329 - val_loss: 0.0119 - val_r2_score: 0.4541\n",
      "Epoch 13/100\n",
      "\u001b[1m10/10\u001b[0m \u001b[32m━━━━━━━━━━━━━━━━━━━━\u001b[0m\u001b[37m\u001b[0m \u001b[1m0s\u001b[0m 10ms/step - loss: 0.0137 - r2_score: 0.3582 - val_loss: 0.0101 - val_r2_score: 0.5396\n",
      "Epoch 14/100\n",
      "\u001b[1m10/10\u001b[0m \u001b[32m━━━━━━━━━━━━━━━━━━━━\u001b[0m\u001b[37m\u001b[0m \u001b[1m0s\u001b[0m 12ms/step - loss: 0.0112 - r2_score: 0.4690 - val_loss: 0.0090 - val_r2_score: 0.5872\n",
      "Epoch 15/100\n",
      "\u001b[1m10/10\u001b[0m \u001b[32m━━━━━━━━━━━━━━━━━━━━\u001b[0m\u001b[37m\u001b[0m \u001b[1m0s\u001b[0m 11ms/step - loss: 0.0099 - r2_score: 0.5060 - val_loss: 0.0084 - val_r2_score: 0.6152\n",
      "Epoch 16/100\n",
      "\u001b[1m10/10\u001b[0m \u001b[32m━━━━━━━━━━━━━━━━━━━━\u001b[0m\u001b[37m\u001b[0m \u001b[1m0s\u001b[0m 11ms/step - loss: 0.0088 - r2_score: 0.5290 - val_loss: 0.0081 - val_r2_score: 0.6290\n",
      "Epoch 17/100\n",
      "\u001b[1m10/10\u001b[0m \u001b[32m━━━━━━━━━━━━━━━━━━━━\u001b[0m\u001b[37m\u001b[0m \u001b[1m0s\u001b[0m 10ms/step - loss: 0.0076 - r2_score: 0.5977 - val_loss: 0.0079 - val_r2_score: 0.6395\n",
      "Epoch 18/100\n",
      "\u001b[1m10/10\u001b[0m \u001b[32m━━━━━━━━━━━━━━━━━━━━\u001b[0m\u001b[37m\u001b[0m \u001b[1m0s\u001b[0m 11ms/step - loss: 0.0080 - r2_score: 0.5963 - val_loss: 0.0077 - val_r2_score: 0.6488\n",
      "Epoch 19/100\n",
      "\u001b[1m10/10\u001b[0m \u001b[32m━━━━━━━━━━━━━━━━━━━━\u001b[0m\u001b[37m\u001b[0m \u001b[1m0s\u001b[0m 11ms/step - loss: 0.0084 - r2_score: 0.5624 - val_loss: 0.0075 - val_r2_score: 0.6546\n",
      "Epoch 20/100\n",
      "\u001b[1m10/10\u001b[0m \u001b[32m━━━━━━━━━━━━━━━━━━━━\u001b[0m\u001b[37m\u001b[0m \u001b[1m0s\u001b[0m 10ms/step - loss: 0.0072 - r2_score: 0.6447 - val_loss: 0.0075 - val_r2_score: 0.6576\n",
      "Epoch 21/100\n",
      "\u001b[1m10/10\u001b[0m \u001b[32m━━━━━━━━━━━━━━━━━━━━\u001b[0m\u001b[37m\u001b[0m \u001b[1m0s\u001b[0m 10ms/step - loss: 0.0075 - r2_score: 0.5953 - val_loss: 0.0073 - val_r2_score: 0.6640\n",
      "Epoch 22/100\n",
      "\u001b[1m10/10\u001b[0m \u001b[32m━━━━━━━━━━━━━━━━━━━━\u001b[0m\u001b[37m\u001b[0m \u001b[1m0s\u001b[0m 11ms/step - loss: 0.0079 - r2_score: 0.5479 - val_loss: 0.0072 - val_r2_score: 0.6692\n",
      "Epoch 23/100\n",
      "\u001b[1m10/10\u001b[0m \u001b[32m━━━━━━━━━━━━━━━━━━━━\u001b[0m\u001b[37m\u001b[0m \u001b[1m0s\u001b[0m 12ms/step - loss: 0.0075 - r2_score: 0.6505 - val_loss: 0.0071 - val_r2_score: 0.6729\n",
      "Epoch 24/100\n",
      "\u001b[1m10/10\u001b[0m \u001b[32m━━━━━━━━━━━━━━━━━━━━\u001b[0m\u001b[37m\u001b[0m \u001b[1m0s\u001b[0m 13ms/step - loss: 0.0067 - r2_score: 0.6371 - val_loss: 0.0071 - val_r2_score: 0.6773\n",
      "Epoch 25/100\n",
      "\u001b[1m10/10\u001b[0m \u001b[32m━━━━━━━━━━━━━━━━━━━━\u001b[0m\u001b[37m\u001b[0m \u001b[1m0s\u001b[0m 12ms/step - loss: 0.0061 - r2_score: 0.6653 - val_loss: 0.0070 - val_r2_score: 0.6818\n",
      "Epoch 26/100\n",
      "\u001b[1m10/10\u001b[0m \u001b[32m━━━━━━━━━━━━━━━━━━━━\u001b[0m\u001b[37m\u001b[0m \u001b[1m0s\u001b[0m 11ms/step - loss: 0.0070 - r2_score: 0.6209 - val_loss: 0.0070 - val_r2_score: 0.6817\n",
      "Epoch 27/100\n",
      "\u001b[1m10/10\u001b[0m \u001b[32m━━━━━━━━━━━━━━━━━━━━\u001b[0m\u001b[37m\u001b[0m \u001b[1m0s\u001b[0m 11ms/step - loss: 0.0063 - r2_score: 0.6866 - val_loss: 0.0069 - val_r2_score: 0.6854\n",
      "Epoch 28/100\n",
      "\u001b[1m10/10\u001b[0m \u001b[32m━━━━━━━━━━━━━━━━━━━━\u001b[0m\u001b[37m\u001b[0m \u001b[1m0s\u001b[0m 11ms/step - loss: 0.0059 - r2_score: 0.6691 - val_loss: 0.0068 - val_r2_score: 0.6904\n",
      "Epoch 29/100\n",
      "\u001b[1m10/10\u001b[0m \u001b[32m━━━━━━━━━━━━━━━━━━━━\u001b[0m\u001b[37m\u001b[0m \u001b[1m0s\u001b[0m 11ms/step - loss: 0.0066 - r2_score: 0.5797 - val_loss: 0.0067 - val_r2_score: 0.6955\n",
      "Epoch 30/100\n",
      "\u001b[1m10/10\u001b[0m \u001b[32m━━━━━━━━━━━━━━━━━━━━\u001b[0m\u001b[37m\u001b[0m \u001b[1m0s\u001b[0m 10ms/step - loss: 0.0068 - r2_score: 0.6739 - val_loss: 0.0066 - val_r2_score: 0.6985\n",
      "Epoch 31/100\n",
      "\u001b[1m10/10\u001b[0m \u001b[32m━━━━━━━━━━━━━━━━━━━━\u001b[0m\u001b[37m\u001b[0m \u001b[1m0s\u001b[0m 11ms/step - loss: 0.0065 - r2_score: 0.6487 - val_loss: 0.0065 - val_r2_score: 0.7010\n",
      "Epoch 32/100\n",
      "\u001b[1m10/10\u001b[0m \u001b[32m━━━━━━━━━━━━━━━━━━━━\u001b[0m\u001b[37m\u001b[0m \u001b[1m0s\u001b[0m 11ms/step - loss: 0.0060 - r2_score: 0.6795 - val_loss: 0.0065 - val_r2_score: 0.7037\n",
      "Epoch 33/100\n",
      "\u001b[1m10/10\u001b[0m \u001b[32m━━━━━━━━━━━━━━━━━━━━\u001b[0m\u001b[37m\u001b[0m \u001b[1m0s\u001b[0m 11ms/step - loss: 0.0062 - r2_score: 0.6446 - val_loss: 0.0064 - val_r2_score: 0.7076\n",
      "Epoch 34/100\n",
      "\u001b[1m10/10\u001b[0m \u001b[32m━━━━━━━━━━━━━━━━━━━━\u001b[0m\u001b[37m\u001b[0m \u001b[1m0s\u001b[0m 11ms/step - loss: 0.0061 - r2_score: 0.6905 - val_loss: 0.0064 - val_r2_score: 0.7084\n",
      "Epoch 35/100\n",
      "\u001b[1m10/10\u001b[0m \u001b[32m━━━━━━━━━━━━━━━━━━━━\u001b[0m\u001b[37m\u001b[0m \u001b[1m0s\u001b[0m 11ms/step - loss: 0.0050 - r2_score: 0.7254 - val_loss: 0.0063 - val_r2_score: 0.7126\n",
      "Epoch 36/100\n",
      "\u001b[1m10/10\u001b[0m \u001b[32m━━━━━━━━━━━━━━━━━━━━\u001b[0m\u001b[37m\u001b[0m \u001b[1m0s\u001b[0m 11ms/step - loss: 0.0064 - r2_score: 0.6710 - val_loss: 0.0063 - val_r2_score: 0.7139\n",
      "Epoch 37/100\n",
      "\u001b[1m10/10\u001b[0m \u001b[32m━━━━━━━━━━━━━━━━━━━━\u001b[0m\u001b[37m\u001b[0m \u001b[1m0s\u001b[0m 10ms/step - loss: 0.0058 - r2_score: 0.7030 - val_loss: 0.0061 - val_r2_score: 0.7187\n",
      "Epoch 38/100\n",
      "\u001b[1m10/10\u001b[0m \u001b[32m━━━━━━━━━━━━━━━━━━━━\u001b[0m\u001b[37m\u001b[0m \u001b[1m0s\u001b[0m 12ms/step - loss: 0.0064 - r2_score: 0.6725 - val_loss: 0.0061 - val_r2_score: 0.7195\n",
      "Epoch 39/100\n",
      "\u001b[1m10/10\u001b[0m \u001b[32m━━━━━━━━━━━━━━━━━━━━\u001b[0m\u001b[37m\u001b[0m \u001b[1m0s\u001b[0m 11ms/step - loss: 0.0054 - r2_score: 0.7110 - val_loss: 0.0060 - val_r2_score: 0.7251\n",
      "Epoch 40/100\n",
      "\u001b[1m10/10\u001b[0m \u001b[32m━━━━━━━━━━━━━━━━━━━━\u001b[0m\u001b[37m\u001b[0m \u001b[1m0s\u001b[0m 11ms/step - loss: 0.0058 - r2_score: 0.6983 - val_loss: 0.0060 - val_r2_score: 0.7267\n",
      "Epoch 41/100\n",
      "\u001b[1m10/10\u001b[0m \u001b[32m━━━━━━━━━━━━━━━━━━━━\u001b[0m\u001b[37m\u001b[0m \u001b[1m0s\u001b[0m 11ms/step - loss: 0.0055 - r2_score: 0.7231 - val_loss: 0.0059 - val_r2_score: 0.7288\n",
      "Epoch 42/100\n",
      "\u001b[1m10/10\u001b[0m \u001b[32m━━━━━━━━━━━━━━━━━━━━\u001b[0m\u001b[37m\u001b[0m \u001b[1m0s\u001b[0m 11ms/step - loss: 0.0054 - r2_score: 0.7164 - val_loss: 0.0059 - val_r2_score: 0.7309\n",
      "Epoch 43/100\n",
      "\u001b[1m10/10\u001b[0m \u001b[32m━━━━━━━━━━━━━━━━━━━━\u001b[0m\u001b[37m\u001b[0m \u001b[1m0s\u001b[0m 10ms/step - loss: 0.0050 - r2_score: 0.7225 - val_loss: 0.0058 - val_r2_score: 0.7331\n",
      "Epoch 44/100\n",
      "\u001b[1m10/10\u001b[0m \u001b[32m━━━━━━━━━━━━━━━━━━━━\u001b[0m\u001b[37m\u001b[0m \u001b[1m0s\u001b[0m 11ms/step - loss: 0.0054 - r2_score: 0.7361 - val_loss: 0.0058 - val_r2_score: 0.7340\n",
      "Epoch 45/100\n",
      "\u001b[1m10/10\u001b[0m \u001b[32m━━━━━━━━━━━━━━━━━━━━\u001b[0m\u001b[37m\u001b[0m \u001b[1m0s\u001b[0m 11ms/step - loss: 0.0062 - r2_score: 0.6973 - val_loss: 0.0057 - val_r2_score: 0.7380\n",
      "Epoch 46/100\n",
      "\u001b[1m10/10\u001b[0m \u001b[32m━━━━━━━━━━━━━━━━━━━━\u001b[0m\u001b[37m\u001b[0m \u001b[1m0s\u001b[0m 11ms/step - loss: 0.0053 - r2_score: 0.7041 - val_loss: 0.0057 - val_r2_score: 0.7392\n",
      "Epoch 47/100\n",
      "\u001b[1m10/10\u001b[0m \u001b[32m━━━━━━━━━━━━━━━━━━━━\u001b[0m\u001b[37m\u001b[0m \u001b[1m0s\u001b[0m 11ms/step - loss: 0.0065 - r2_score: 0.6442 - val_loss: 0.0057 - val_r2_score: 0.7410\n",
      "Epoch 48/100\n",
      "\u001b[1m10/10\u001b[0m \u001b[32m━━━━━━━━━━━━━━━━━━━━\u001b[0m\u001b[37m\u001b[0m \u001b[1m0s\u001b[0m 10ms/step - loss: 0.0051 - r2_score: 0.7059 - val_loss: 0.0056 - val_r2_score: 0.7425\n",
      "Epoch 49/100\n",
      "\u001b[1m10/10\u001b[0m \u001b[32m━━━━━━━━━━━━━━━━━━━━\u001b[0m\u001b[37m\u001b[0m \u001b[1m0s\u001b[0m 11ms/step - loss: 0.0048 - r2_score: 0.7270 - val_loss: 0.0056 - val_r2_score: 0.7448\n",
      "Epoch 50/100\n",
      "\u001b[1m10/10\u001b[0m \u001b[32m━━━━━━━━━━━━━━━━━━━━\u001b[0m\u001b[37m\u001b[0m \u001b[1m0s\u001b[0m 10ms/step - loss: 0.0050 - r2_score: 0.7205 - val_loss: 0.0055 - val_r2_score: 0.7465\n",
      "Epoch 51/100\n",
      "\u001b[1m10/10\u001b[0m \u001b[32m━━━━━━━━━━━━━━━━━━━━\u001b[0m\u001b[37m\u001b[0m \u001b[1m0s\u001b[0m 11ms/step - loss: 0.0054 - r2_score: 0.7069 - val_loss: 0.0055 - val_r2_score: 0.7475\n",
      "Epoch 52/100\n",
      "\u001b[1m10/10\u001b[0m \u001b[32m━━━━━━━━━━━━━━━━━━━━\u001b[0m\u001b[37m\u001b[0m \u001b[1m0s\u001b[0m 11ms/step - loss: 0.0047 - r2_score: 0.7152 - val_loss: 0.0054 - val_r2_score: 0.7508\n",
      "Epoch 53/100\n",
      "\u001b[1m10/10\u001b[0m \u001b[32m━━━━━━━━━━━━━━━━━━━━\u001b[0m\u001b[37m\u001b[0m \u001b[1m0s\u001b[0m 11ms/step - loss: 0.0051 - r2_score: 0.7365 - val_loss: 0.0054 - val_r2_score: 0.7537\n",
      "Epoch 54/100\n",
      "\u001b[1m10/10\u001b[0m \u001b[32m━━━━━━━━━━━━━━━━━━━━\u001b[0m\u001b[37m\u001b[0m \u001b[1m0s\u001b[0m 10ms/step - loss: 0.0056 - r2_score: 0.7058 - val_loss: 0.0053 - val_r2_score: 0.7559\n",
      "Epoch 55/100\n",
      "\u001b[1m10/10\u001b[0m \u001b[32m━━━━━━━━━━━━━━━━━━━━\u001b[0m\u001b[37m\u001b[0m \u001b[1m0s\u001b[0m 11ms/step - loss: 0.0048 - r2_score: 0.7368 - val_loss: 0.0053 - val_r2_score: 0.7580\n",
      "Epoch 56/100\n",
      "\u001b[1m10/10\u001b[0m \u001b[32m━━━━━━━━━━━━━━━━━━━━\u001b[0m\u001b[37m\u001b[0m \u001b[1m0s\u001b[0m 11ms/step - loss: 0.0044 - r2_score: 0.7423 - val_loss: 0.0053 - val_r2_score: 0.7584\n",
      "Epoch 57/100\n",
      "\u001b[1m10/10\u001b[0m \u001b[32m━━━━━━━━━━━━━━━━━━━━\u001b[0m\u001b[37m\u001b[0m \u001b[1m0s\u001b[0m 11ms/step - loss: 0.0054 - r2_score: 0.7477 - val_loss: 0.0052 - val_r2_score: 0.7598\n",
      "Epoch 58/100\n",
      "\u001b[1m10/10\u001b[0m \u001b[32m━━━━━━━━━━━━━━━━━━━━\u001b[0m\u001b[37m\u001b[0m \u001b[1m0s\u001b[0m 10ms/step - loss: 0.0051 - r2_score: 0.7230 - val_loss: 0.0052 - val_r2_score: 0.7620\n",
      "Epoch 59/100\n",
      "\u001b[1m10/10\u001b[0m \u001b[32m━━━━━━━━━━━━━━━━━━━━\u001b[0m\u001b[37m\u001b[0m \u001b[1m0s\u001b[0m 10ms/step - loss: 0.0056 - r2_score: 0.7231 - val_loss: 0.0051 - val_r2_score: 0.7648\n",
      "Epoch 60/100\n",
      "\u001b[1m10/10\u001b[0m \u001b[32m━━━━━━━━━━━━━━━━━━━━\u001b[0m\u001b[37m\u001b[0m \u001b[1m0s\u001b[0m 11ms/step - loss: 0.0043 - r2_score: 0.7536 - val_loss: 0.0052 - val_r2_score: 0.7644\n",
      "Epoch 61/100\n",
      "\u001b[1m10/10\u001b[0m \u001b[32m━━━━━━━━━━━━━━━━━━━━\u001b[0m\u001b[37m\u001b[0m \u001b[1m0s\u001b[0m 12ms/step - loss: 0.0047 - r2_score: 0.7479 - val_loss: 0.0051 - val_r2_score: 0.7669\n",
      "Epoch 62/100\n",
      "\u001b[1m10/10\u001b[0m \u001b[32m━━━━━━━━━━━━━━━━━━━━\u001b[0m\u001b[37m\u001b[0m \u001b[1m0s\u001b[0m 12ms/step - loss: 0.0047 - r2_score: 0.7386 - val_loss: 0.0051 - val_r2_score: 0.7682\n",
      "Epoch 63/100\n",
      "\u001b[1m10/10\u001b[0m \u001b[32m━━━━━━━━━━━━━━━━━━━━\u001b[0m\u001b[37m\u001b[0m \u001b[1m0s\u001b[0m 12ms/step - loss: 0.0045 - r2_score: 0.7651 - val_loss: 0.0050 - val_r2_score: 0.7695\n",
      "Epoch 64/100\n",
      "\u001b[1m10/10\u001b[0m \u001b[32m━━━━━━━━━━━━━━━━━━━━\u001b[0m\u001b[37m\u001b[0m \u001b[1m0s\u001b[0m 12ms/step - loss: 0.0044 - r2_score: 0.7776 - val_loss: 0.0050 - val_r2_score: 0.7702\n",
      "Epoch 65/100\n",
      "\u001b[1m10/10\u001b[0m \u001b[32m━━━━━━━━━━━━━━━━━━━━\u001b[0m\u001b[37m\u001b[0m \u001b[1m0s\u001b[0m 11ms/step - loss: 0.0043 - r2_score: 0.7738 - val_loss: 0.0050 - val_r2_score: 0.7729\n",
      "Epoch 66/100\n",
      "\u001b[1m10/10\u001b[0m \u001b[32m━━━━━━━━━━━━━━━━━━━━\u001b[0m\u001b[37m\u001b[0m \u001b[1m0s\u001b[0m 11ms/step - loss: 0.0045 - r2_score: 0.7525 - val_loss: 0.0049 - val_r2_score: 0.7751\n",
      "Epoch 67/100\n",
      "\u001b[1m10/10\u001b[0m \u001b[32m━━━━━━━━━━━━━━━━━━━━\u001b[0m\u001b[37m\u001b[0m \u001b[1m0s\u001b[0m 12ms/step - loss: 0.0044 - r2_score: 0.7704 - val_loss: 0.0049 - val_r2_score: 0.7763\n",
      "Epoch 68/100\n",
      "\u001b[1m10/10\u001b[0m \u001b[32m━━━━━━━━━━━━━━━━━━━━\u001b[0m\u001b[37m\u001b[0m \u001b[1m0s\u001b[0m 12ms/step - loss: 0.0044 - r2_score: 0.7675 - val_loss: 0.0048 - val_r2_score: 0.7787\n",
      "Epoch 69/100\n",
      "\u001b[1m10/10\u001b[0m \u001b[32m━━━━━━━━━━━━━━━━━━━━\u001b[0m\u001b[37m\u001b[0m \u001b[1m0s\u001b[0m 11ms/step - loss: 0.0048 - r2_score: 0.7307 - val_loss: 0.0048 - val_r2_score: 0.7782\n",
      "Epoch 70/100\n",
      "\u001b[1m10/10\u001b[0m \u001b[32m━━━━━━━━━━━━━━━━━━━━\u001b[0m\u001b[37m\u001b[0m \u001b[1m0s\u001b[0m 11ms/step - loss: 0.0042 - r2_score: 0.7834 - val_loss: 0.0048 - val_r2_score: 0.7795\n",
      "Epoch 71/100\n",
      "\u001b[1m10/10\u001b[0m \u001b[32m━━━━━━━━━━━━━━━━━━━━\u001b[0m\u001b[37m\u001b[0m \u001b[1m0s\u001b[0m 12ms/step - loss: 0.0055 - r2_score: 0.7199 - val_loss: 0.0048 - val_r2_score: 0.7801\n",
      "Epoch 72/100\n",
      "\u001b[1m10/10\u001b[0m \u001b[32m━━━━━━━━━━━━━━━━━━━━\u001b[0m\u001b[37m\u001b[0m \u001b[1m0s\u001b[0m 11ms/step - loss: 0.0054 - r2_score: 0.7224 - val_loss: 0.0047 - val_r2_score: 0.7836\n",
      "Epoch 73/100\n",
      "\u001b[1m10/10\u001b[0m \u001b[32m━━━━━━━━━━━━━━━━━━━━\u001b[0m\u001b[37m\u001b[0m \u001b[1m0s\u001b[0m 12ms/step - loss: 0.0046 - r2_score: 0.7424 - val_loss: 0.0047 - val_r2_score: 0.7844\n",
      "Epoch 74/100\n",
      "\u001b[1m10/10\u001b[0m \u001b[32m━━━━━━━━━━━━━━━━━━━━\u001b[0m\u001b[37m\u001b[0m \u001b[1m0s\u001b[0m 11ms/step - loss: 0.0043 - r2_score: 0.7742 - val_loss: 0.0048 - val_r2_score: 0.7827\n",
      "Epoch 75/100\n",
      "\u001b[1m10/10\u001b[0m \u001b[32m━━━━━━━━━━━━━━━━━━━━\u001b[0m\u001b[37m\u001b[0m \u001b[1m0s\u001b[0m 11ms/step - loss: 0.0044 - r2_score: 0.7819 - val_loss: 0.0047 - val_r2_score: 0.7863\n",
      "Epoch 76/100\n",
      "\u001b[1m10/10\u001b[0m \u001b[32m━━━━━━━━━━━━━━━━━━━━\u001b[0m\u001b[37m\u001b[0m \u001b[1m0s\u001b[0m 11ms/step - loss: 0.0043 - r2_score: 0.7669 - val_loss: 0.0047 - val_r2_score: 0.7860\n",
      "Epoch 77/100\n",
      "\u001b[1m10/10\u001b[0m \u001b[32m━━━━━━━━━━━━━━━━━━━━\u001b[0m\u001b[37m\u001b[0m \u001b[1m0s\u001b[0m 11ms/step - loss: 0.0042 - r2_score: 0.7845 - val_loss: 0.0046 - val_r2_score: 0.7882\n",
      "Epoch 78/100\n",
      "\u001b[1m10/10\u001b[0m \u001b[32m━━━━━━━━━━━━━━━━━━━━\u001b[0m\u001b[37m\u001b[0m \u001b[1m0s\u001b[0m 12ms/step - loss: 0.0041 - r2_score: 0.7669 - val_loss: 0.0046 - val_r2_score: 0.7883\n",
      "Epoch 79/100\n",
      "\u001b[1m10/10\u001b[0m \u001b[32m━━━━━━━━━━━━━━━━━━━━\u001b[0m\u001b[37m\u001b[0m \u001b[1m0s\u001b[0m 12ms/step - loss: 0.0043 - r2_score: 0.7790 - val_loss: 0.0046 - val_r2_score: 0.7879\n",
      "Epoch 80/100\n",
      "\u001b[1m10/10\u001b[0m \u001b[32m━━━━━━━━━━━━━━━━━━━━\u001b[0m\u001b[37m\u001b[0m \u001b[1m0s\u001b[0m 12ms/step - loss: 0.0043 - r2_score: 0.7605 - val_loss: 0.0046 - val_r2_score: 0.7914\n",
      "Epoch 81/100\n",
      "\u001b[1m10/10\u001b[0m \u001b[32m━━━━━━━━━━━━━━━━━━━━\u001b[0m\u001b[37m\u001b[0m \u001b[1m0s\u001b[0m 11ms/step - loss: 0.0050 - r2_score: 0.7592 - val_loss: 0.0045 - val_r2_score: 0.7923\n",
      "Epoch 82/100\n",
      "\u001b[1m10/10\u001b[0m \u001b[32m━━━━━━━━━━━━━━━━━━━━\u001b[0m\u001b[37m\u001b[0m \u001b[1m0s\u001b[0m 10ms/step - loss: 0.0044 - r2_score: 0.7790 - val_loss: 0.0045 - val_r2_score: 0.7940\n",
      "Epoch 83/100\n",
      "\u001b[1m10/10\u001b[0m \u001b[32m━━━━━━━━━━━━━━━━━━━━\u001b[0m\u001b[37m\u001b[0m \u001b[1m0s\u001b[0m 13ms/step - loss: 0.0045 - r2_score: 0.7591 - val_loss: 0.0045 - val_r2_score: 0.7950\n",
      "Epoch 84/100\n",
      "\u001b[1m10/10\u001b[0m \u001b[32m━━━━━━━━━━━━━━━━━━━━\u001b[0m\u001b[37m\u001b[0m \u001b[1m0s\u001b[0m 22ms/step - loss: 0.0043 - r2_score: 0.7675 - val_loss: 0.0045 - val_r2_score: 0.7954\n",
      "Epoch 85/100\n",
      "\u001b[1m10/10\u001b[0m \u001b[32m━━━━━━━━━━━━━━━━━━━━\u001b[0m\u001b[37m\u001b[0m \u001b[1m0s\u001b[0m 11ms/step - loss: 0.0044 - r2_score: 0.7730 - val_loss: 0.0044 - val_r2_score: 0.7984\n",
      "Epoch 86/100\n",
      "\u001b[1m10/10\u001b[0m \u001b[32m━━━━━━━━━━━━━━━━━━━━\u001b[0m\u001b[37m\u001b[0m \u001b[1m0s\u001b[0m 13ms/step - loss: 0.0047 - r2_score: 0.7493 - val_loss: 0.0044 - val_r2_score: 0.7991\n",
      "Epoch 87/100\n",
      "\u001b[1m10/10\u001b[0m \u001b[32m━━━━━━━━━━━━━━━━━━━━\u001b[0m\u001b[37m\u001b[0m \u001b[1m0s\u001b[0m 12ms/step - loss: 0.0041 - r2_score: 0.7768 - val_loss: 0.0044 - val_r2_score: 0.7997\n",
      "Epoch 88/100\n",
      "\u001b[1m10/10\u001b[0m \u001b[32m━━━━━━━━━━━━━━━━━━━━\u001b[0m\u001b[37m\u001b[0m \u001b[1m0s\u001b[0m 11ms/step - loss: 0.0039 - r2_score: 0.7860 - val_loss: 0.0044 - val_r2_score: 0.8010\n",
      "Epoch 89/100\n",
      "\u001b[1m10/10\u001b[0m \u001b[32m━━━━━━━━━━━━━━━━━━━━\u001b[0m\u001b[37m\u001b[0m \u001b[1m0s\u001b[0m 11ms/step - loss: 0.0042 - r2_score: 0.7886 - val_loss: 0.0044 - val_r2_score: 0.8009\n",
      "Epoch 90/100\n",
      "\u001b[1m10/10\u001b[0m \u001b[32m━━━━━━━━━━━━━━━━━━━━\u001b[0m\u001b[37m\u001b[0m \u001b[1m0s\u001b[0m 10ms/step - loss: 0.0045 - r2_score: 0.7622 - val_loss: 0.0043 - val_r2_score: 0.8023\n",
      "Epoch 91/100\n",
      "\u001b[1m10/10\u001b[0m \u001b[32m━━━━━━━━━━━━━━━━━━━━\u001b[0m\u001b[37m\u001b[0m \u001b[1m0s\u001b[0m 12ms/step - loss: 0.0037 - r2_score: 0.8035 - val_loss: 0.0043 - val_r2_score: 0.8035\n",
      "Epoch 92/100\n",
      "\u001b[1m10/10\u001b[0m \u001b[32m━━━━━━━━━━━━━━━━━━━━\u001b[0m\u001b[37m\u001b[0m \u001b[1m0s\u001b[0m 11ms/step - loss: 0.0038 - r2_score: 0.8029 - val_loss: 0.0043 - val_r2_score: 0.8050\n",
      "Epoch 93/100\n",
      "\u001b[1m10/10\u001b[0m \u001b[32m━━━━━━━━━━━━━━━━━━━━\u001b[0m\u001b[37m\u001b[0m \u001b[1m0s\u001b[0m 11ms/step - loss: 0.0040 - r2_score: 0.7970 - val_loss: 0.0042 - val_r2_score: 0.8057\n",
      "Epoch 94/100\n",
      "\u001b[1m10/10\u001b[0m \u001b[32m━━━━━━━━━━━━━━━━━━━━\u001b[0m\u001b[37m\u001b[0m \u001b[1m0s\u001b[0m 10ms/step - loss: 0.0035 - r2_score: 0.8023 - val_loss: 0.0042 - val_r2_score: 0.8066\n",
      "Epoch 95/100\n",
      "\u001b[1m10/10\u001b[0m \u001b[32m━━━━━━━━━━━━━━━━━━━━\u001b[0m\u001b[37m\u001b[0m \u001b[1m0s\u001b[0m 13ms/step - loss: 0.0040 - r2_score: 0.7903 - val_loss: 0.0042 - val_r2_score: 0.8071\n",
      "Epoch 96/100\n",
      "\u001b[1m10/10\u001b[0m \u001b[32m━━━━━━━━━━━━━━━━━━━━\u001b[0m\u001b[37m\u001b[0m \u001b[1m0s\u001b[0m 13ms/step - loss: 0.0038 - r2_score: 0.8085 - val_loss: 0.0042 - val_r2_score: 0.8084\n",
      "Epoch 97/100\n",
      "\u001b[1m10/10\u001b[0m \u001b[32m━━━━━━━━━━━━━━━━━━━━\u001b[0m\u001b[37m\u001b[0m \u001b[1m0s\u001b[0m 12ms/step - loss: 0.0036 - r2_score: 0.7904 - val_loss: 0.0042 - val_r2_score: 0.8085\n",
      "Epoch 98/100\n",
      "\u001b[1m10/10\u001b[0m \u001b[32m━━━━━━━━━━━━━━━━━━━━\u001b[0m\u001b[37m\u001b[0m \u001b[1m0s\u001b[0m 11ms/step - loss: 0.0039 - r2_score: 0.7832 - val_loss: 0.0041 - val_r2_score: 0.8102\n",
      "Epoch 99/100\n",
      "\u001b[1m10/10\u001b[0m \u001b[32m━━━━━━━━━━━━━━━━━━━━\u001b[0m\u001b[37m\u001b[0m \u001b[1m0s\u001b[0m 11ms/step - loss: 0.0043 - r2_score: 0.7607 - val_loss: 0.0041 - val_r2_score: 0.8118\n",
      "Epoch 100/100\n",
      "\u001b[1m10/10\u001b[0m \u001b[32m━━━━━━━━━━━━━━━━━━━━\u001b[0m\u001b[37m\u001b[0m \u001b[1m0s\u001b[0m 11ms/step - loss: 0.0043 - r2_score: 0.7849 - val_loss: 0.0042 - val_r2_score: 0.8092\n"
     ]
    }
   ],
   "source": [
    "history = model.fit(X_train , y_train , epochs=100 , validation_split=0.2)"
   ]
  },
  {
   "cell_type": "code",
   "execution_count": 194,
   "id": "01758991-420b-4685-890e-62f3f4db3a6f",
   "metadata": {},
   "outputs": [
    {
     "name": "stdout",
     "output_type": "stream",
     "text": [
      "\u001b[1m4/4\u001b[0m \u001b[32m━━━━━━━━━━━━━━━━━━━━\u001b[0m\u001b[37m\u001b[0m \u001b[1m0s\u001b[0m 27ms/step \n"
     ]
    }
   ],
   "source": [
    "y_pred = model.predict(X_test)"
   ]
  },
  {
   "cell_type": "code",
   "execution_count": 195,
   "id": "6586b8ec-212e-4f08-8351-da85af02abd9",
   "metadata": {},
   "outputs": [],
   "source": [
    "from sklearn.metrics import r2_score"
   ]
  },
  {
   "cell_type": "code",
   "execution_count": 196,
   "id": "a872f88a-f0ea-4c53-8858-9a4136176f42",
   "metadata": {},
   "outputs": [
    {
     "data": {
      "text/plain": [
       "0.802424223541605"
      ]
     },
     "execution_count": 196,
     "metadata": {},
     "output_type": "execute_result"
    }
   ],
   "source": [
    "r2_score(y_test,y_pred)"
   ]
  },
  {
   "cell_type": "code",
   "execution_count": 197,
   "id": "85c129c4-b029-47c3-befc-71a0b1d7f487",
   "metadata": {},
   "outputs": [],
   "source": [
    "import matplotlib.pyplot as plt"
   ]
  },
  {
   "cell_type": "code",
   "execution_count": 198,
   "id": "ef3e1866-31dd-4517-ad50-f3da416ea670",
   "metadata": {},
   "outputs": [
    {
     "data": {
      "text/plain": [
       "{'loss': [0.4064866006374359,\n",
       "  0.31372421979904175,\n",
       "  0.21998175978660583,\n",
       "  0.13540205359458923,\n",
       "  0.08442911505699158,\n",
       "  0.059515733271837234,\n",
       "  0.04676852375268936,\n",
       "  0.03592926636338234,\n",
       "  0.02870309352874756,\n",
       "  0.024331895634531975,\n",
       "  0.020398927852511406,\n",
       "  0.016558269038796425,\n",
       "  0.01363606471568346,\n",
       "  0.011339494027197361,\n",
       "  0.009889209643006325,\n",
       "  0.00902737770229578,\n",
       "  0.00840790756046772,\n",
       "  0.008186996914446354,\n",
       "  0.007923165336251259,\n",
       "  0.0075730993412435055,\n",
       "  0.007363634649664164,\n",
       "  0.007207079324871302,\n",
       "  0.007079658564180136,\n",
       "  0.006937080062925816,\n",
       "  0.006877532694488764,\n",
       "  0.006739127449691296,\n",
       "  0.006619531661272049,\n",
       "  0.006484278943389654,\n",
       "  0.006417439319193363,\n",
       "  0.006315763108432293,\n",
       "  0.006293354090303183,\n",
       "  0.006192144937813282,\n",
       "  0.006047169212251902,\n",
       "  0.00605541979894042,\n",
       "  0.00607495941221714,\n",
       "  0.006021718494594097,\n",
       "  0.005937912501394749,\n",
       "  0.0057859597727656364,\n",
       "  0.005730821751058102,\n",
       "  0.005614368245005608,\n",
       "  0.005594730377197266,\n",
       "  0.005533302668482065,\n",
       "  0.0055171893909573555,\n",
       "  0.005419902503490448,\n",
       "  0.005450618453323841,\n",
       "  0.005341482814401388,\n",
       "  0.00531550170853734,\n",
       "  0.005324739031493664,\n",
       "  0.0052506327629089355,\n",
       "  0.005204423330724239,\n",
       "  0.005156276281923056,\n",
       "  0.0051471092738211155,\n",
       "  0.005124305374920368,\n",
       "  0.005077518988400698,\n",
       "  0.005056825932115316,\n",
       "  0.0050147539004683495,\n",
       "  0.00505659356713295,\n",
       "  0.00506227370351553,\n",
       "  0.004977144300937653,\n",
       "  0.004949803929775953,\n",
       "  0.004935295321047306,\n",
       "  0.004866060800850391,\n",
       "  0.004855487495660782,\n",
       "  0.004785117227584124,\n",
       "  0.004790589213371277,\n",
       "  0.004760886542499065,\n",
       "  0.0047620004042983055,\n",
       "  0.0047460575588047504,\n",
       "  0.004786770325154066,\n",
       "  0.004745550453662872,\n",
       "  0.00473144743591547,\n",
       "  0.004648800007998943,\n",
       "  0.004641070030629635,\n",
       "  0.00469980388879776,\n",
       "  0.004638622514903545,\n",
       "  0.004563917405903339,\n",
       "  0.004595027305185795,\n",
       "  0.0045331381261348724,\n",
       "  0.004519423935562372,\n",
       "  0.004543767310678959,\n",
       "  0.004519646987318993,\n",
       "  0.004456137306988239,\n",
       "  0.004477413836866617,\n",
       "  0.004462543409317732,\n",
       "  0.0044373092241585255,\n",
       "  0.0044341846369206905,\n",
       "  0.004421096760779619,\n",
       "  0.0044025639072060585,\n",
       "  0.004365784116089344,\n",
       "  0.004446994047611952,\n",
       "  0.0043329400941729546,\n",
       "  0.004331263247877359,\n",
       "  0.004334324039518833,\n",
       "  0.004336691927164793,\n",
       "  0.004283294081687927,\n",
       "  0.004309012088924646,\n",
       "  0.004272722639143467,\n",
       "  0.00428358418866992,\n",
       "  0.0042612082324922085,\n",
       "  0.004326122347265482],\n",
       " 'r2_score': [-20.24309539794922,\n",
       "  -15.395267486572266,\n",
       "  -10.496304512023926,\n",
       "  -6.07612943649292,\n",
       "  -3.4122767448425293,\n",
       "  -2.1103076934814453,\n",
       "  -1.4441168308258057,\n",
       "  -0.8776727914810181,\n",
       "  -0.5000349283218384,\n",
       "  -0.2715911865234375,\n",
       "  -0.06604528427124023,\n",
       "  0.13466274738311768,\n",
       "  0.28737568855285645,\n",
       "  0.4073936343193054,\n",
       "  0.4831899404525757,\n",
       "  0.5282280445098877,\n",
       "  0.5605994462966919,\n",
       "  0.572145402431488,\n",
       "  0.5859344005584717,\n",
       "  0.60422682762146,\n",
       "  0.6151754856109619,\n",
       "  0.6233561635017395,\n",
       "  0.6300143003463745,\n",
       "  0.6374672651290894,\n",
       "  0.6405792236328125,\n",
       "  0.6478114128112793,\n",
       "  0.6540623903274536,\n",
       "  0.6611307263374329,\n",
       "  0.664622962474823,\n",
       "  0.6699373722076416,\n",
       "  0.6711084842681885,\n",
       "  0.6763976812362671,\n",
       "  0.6839733719825745,\n",
       "  0.6835421919822693,\n",
       "  0.6825218200683594,\n",
       "  0.6853026151657104,\n",
       "  0.689683198928833,\n",
       "  0.6976257562637329,\n",
       "  0.7005050182342529,\n",
       "  0.7065916657447815,\n",
       "  0.7076179385185242,\n",
       "  0.7108289003372192,\n",
       "  0.711670994758606,\n",
       "  0.7167537808418274,\n",
       "  0.7151492834091187,\n",
       "  0.7208534479141235,\n",
       "  0.7222098112106323,\n",
       "  0.7217284440994263,\n",
       "  0.7255998849868774,\n",
       "  0.7280148267745972,\n",
       "  0.7305316925048828,\n",
       "  0.7310107350349426,\n",
       "  0.7322031259536743,\n",
       "  0.7346482276916504,\n",
       "  0.7357289791107178,\n",
       "  0.7379276752471924,\n",
       "  0.735741138458252,\n",
       "  0.7354435920715332,\n",
       "  0.7398924827575684,\n",
       "  0.741321325302124,\n",
       "  0.7420814633369446,\n",
       "  0.7456977367401123,\n",
       "  0.7462515830993652,\n",
       "  0.7499278783798218,\n",
       "  0.7496418952941895,\n",
       "  0.7511942386627197,\n",
       "  0.7511366009712219,\n",
       "  0.7519698143005371,\n",
       "  0.7498421669006348,\n",
       "  0.7519956827163696,\n",
       "  0.7527333498001099,\n",
       "  0.7570530772209167,\n",
       "  0.7574570775032043,\n",
       "  0.7543870210647583,\n",
       "  0.757583737373352,\n",
       "  0.7614890933036804,\n",
       "  0.7598638534545898,\n",
       "  0.7630970478057861,\n",
       "  0.7638149261474609,\n",
       "  0.7625409364700317,\n",
       "  0.7638026475906372,\n",
       "  0.7671205401420593,\n",
       "  0.7660086154937744,\n",
       "  0.7667868733406067,\n",
       "  0.7681068181991577,\n",
       "  0.7682689428329468,\n",
       "  0.7689529061317444,\n",
       "  0.7699208855628967,\n",
       "  0.7718429565429688,\n",
       "  0.7675989270210266,\n",
       "  0.7735593914985657,\n",
       "  0.7736476063728333,\n",
       "  0.7734876871109009,\n",
       "  0.7733633518218994,\n",
       "  0.7761545181274414,\n",
       "  0.7748104929924011,\n",
       "  0.7767058610916138,\n",
       "  0.7761393189430237,\n",
       "  0.7773075699806213,\n",
       "  0.77391517162323],\n",
       " 'val_loss': [0.3644734025001526,\n",
       "  0.2645478844642639,\n",
       "  0.16491393744945526,\n",
       "  0.09146499633789062,\n",
       "  0.058157749474048615,\n",
       "  0.044846631586551666,\n",
       "  0.03400380164384842,\n",
       "  0.02529187500476837,\n",
       "  0.02053845487535,\n",
       "  0.017418909817934036,\n",
       "  0.014954065904021263,\n",
       "  0.011932702735066414,\n",
       "  0.010063797235488892,\n",
       "  0.009022394195199013,\n",
       "  0.00840995367616415,\n",
       "  0.008108360692858696,\n",
       "  0.007878581061959267,\n",
       "  0.0076771886087954044,\n",
       "  0.007549302186816931,\n",
       "  0.007484620902687311,\n",
       "  0.007344026118516922,\n",
       "  0.007229529321193695,\n",
       "  0.007149197161197662,\n",
       "  0.007053609937429428,\n",
       "  0.006954553537070751,\n",
       "  0.006956836674362421,\n",
       "  0.00687625166028738,\n",
       "  0.006766318343579769,\n",
       "  0.006655824836343527,\n",
       "  0.006590778939425945,\n",
       "  0.006535967346280813,\n",
       "  0.0064762732945382595,\n",
       "  0.006392202340066433,\n",
       "  0.006373562850058079,\n",
       "  0.0062814331613481045,\n",
       "  0.006254242267459631,\n",
       "  0.006147782318294048,\n",
       "  0.0061307018622756,\n",
       "  0.006009244360029697,\n",
       "  0.005972617771476507,\n",
       "  0.0059267086908221245,\n",
       "  0.0058818114921450615,\n",
       "  0.005832917056977749,\n",
       "  0.0058140018954873085,\n",
       "  0.005726546980440617,\n",
       "  0.005699592176824808,\n",
       "  0.005661941133439541,\n",
       "  0.005627655889838934,\n",
       "  0.005576961673796177,\n",
       "  0.00554125988855958,\n",
       "  0.00551866227760911,\n",
       "  0.005446388386189938,\n",
       "  0.005383591167628765,\n",
       "  0.005335504189133644,\n",
       "  0.005290520843118429,\n",
       "  0.005279858596622944,\n",
       "  0.005249300505965948,\n",
       "  0.005202884785830975,\n",
       "  0.005141336005181074,\n",
       "  0.005150447599589825,\n",
       "  0.005094520747661591,\n",
       "  0.0050669340416789055,\n",
       "  0.0050375633873045444,\n",
       "  0.00502388272434473,\n",
       "  0.0049639539793133736,\n",
       "  0.004915223456919193,\n",
       "  0.004890072159469128,\n",
       "  0.004836332052946091,\n",
       "  0.004848600830882788,\n",
       "  0.004820036236196756,\n",
       "  0.004806197248399258,\n",
       "  0.004729986656457186,\n",
       "  0.004713238216936588,\n",
       "  0.004750506021082401,\n",
       "  0.00467196898534894,\n",
       "  0.004678433295339346,\n",
       "  0.004628912545740604,\n",
       "  0.004627087153494358,\n",
       "  0.0046362667344510555,\n",
       "  0.004558796528726816,\n",
       "  0.004539682064205408,\n",
       "  0.004503360949456692,\n",
       "  0.004480285104364157,\n",
       "  0.004472807049751282,\n",
       "  0.004405640065670013,\n",
       "  0.004391931463032961,\n",
       "  0.004377820063382387,\n",
       "  0.004350691102445126,\n",
       "  0.004352903924882412,\n",
       "  0.004321279935538769,\n",
       "  0.004295050166547298,\n",
       "  0.004261547699570656,\n",
       "  0.004245841410011053,\n",
       "  0.0042276689782738686,\n",
       "  0.00421706261113286,\n",
       "  0.004188042599707842,\n",
       "  0.004185711499303579,\n",
       "  0.0041488222777843475,\n",
       "  0.004114287905395031,\n",
       "  0.004169425927102566],\n",
       " 'val_r2_score': [-15.674980163574219,\n",
       "  -11.103301048278809,\n",
       "  -6.54495906829834,\n",
       "  -3.1846046447753906,\n",
       "  -1.6607685089111328,\n",
       "  -1.0517730712890625,\n",
       "  -0.5557039976119995,\n",
       "  -0.15712571144104004,\n",
       "  0.06034749746322632,\n",
       "  0.20306944847106934,\n",
       "  0.3158382177352905,\n",
       "  0.45406830310821533,\n",
       "  0.5395723581314087,\n",
       "  0.5872174501419067,\n",
       "  0.6152371168136597,\n",
       "  0.6290352940559387,\n",
       "  0.6395479440689087,\n",
       "  0.6487618088722229,\n",
       "  0.6546127200126648,\n",
       "  0.6575719714164734,\n",
       "  0.6640043258666992,\n",
       "  0.6692426204681396,\n",
       "  0.672917902469635,\n",
       "  0.6772910952568054,\n",
       "  0.6818230152130127,\n",
       "  0.6817185878753662,\n",
       "  0.6854053735733032,\n",
       "  0.6904349327087402,\n",
       "  0.6954901218414307,\n",
       "  0.6984660029411316,\n",
       "  0.7009736895561218,\n",
       "  0.7037047147750854,\n",
       "  0.7075510621070862,\n",
       "  0.7084038257598877,\n",
       "  0.7126188278198242,\n",
       "  0.7138628959655762,\n",
       "  0.718733549118042,\n",
       "  0.7195149660110474,\n",
       "  0.7250717878341675,\n",
       "  0.726747453212738,\n",
       "  0.728847861289978,\n",
       "  0.7309018969535828,\n",
       "  0.733138918876648,\n",
       "  0.7340042591094971,\n",
       "  0.7380053997039795,\n",
       "  0.7392386198043823,\n",
       "  0.7409611940383911,\n",
       "  0.7425297498703003,\n",
       "  0.7448490858078003,\n",
       "  0.7464824914932251,\n",
       "  0.7475162744522095,\n",
       "  0.750822901725769,\n",
       "  0.7536959648132324,\n",
       "  0.7558959722518921,\n",
       "  0.7579540014266968,\n",
       "  0.7584418058395386,\n",
       "  0.7598398327827454,\n",
       "  0.761963427066803,\n",
       "  0.7647793292999268,\n",
       "  0.7643624544143677,\n",
       "  0.7669211626052856,\n",
       "  0.7681832313537598,\n",
       "  0.769527018070221,\n",
       "  0.7701529264450073,\n",
       "  0.7728947401046753,\n",
       "  0.775124192237854,\n",
       "  0.7762748599052429,\n",
       "  0.778733491897583,\n",
       "  0.7781721949577332,\n",
       "  0.7794790863990784,\n",
       "  0.7801122069358826,\n",
       "  0.7835988998413086,\n",
       "  0.784365177154541,\n",
       "  0.7826601266860962,\n",
       "  0.7862532734870911,\n",
       "  0.7859575152397156,\n",
       "  0.788223147392273,\n",
       "  0.7883066534996033,\n",
       "  0.7878866791725159,\n",
       "  0.7914310097694397,\n",
       "  0.7923055291175842,\n",
       "  0.7939672470092773,\n",
       "  0.7950229644775391,\n",
       "  0.7953650951385498,\n",
       "  0.7984380722045898,\n",
       "  0.7990652322769165,\n",
       "  0.7997108697891235,\n",
       "  0.8009520173072815,\n",
       "  0.8008508086204529,\n",
       "  0.8022975921630859,\n",
       "  0.8034976720809937,\n",
       "  0.8050304055213928,\n",
       "  0.8057489991188049,\n",
       "  0.8065804243087769,\n",
       "  0.8070656657218933,\n",
       "  0.8083933591842651,\n",
       "  0.8084999918937683,\n",
       "  0.8101876974105835,\n",
       "  0.8117676973342896,\n",
       "  0.8092450499534607]}"
      ]
     },
     "execution_count": 198,
     "metadata": {},
     "output_type": "execute_result"
    }
   ],
   "source": [
    "history.history"
   ]
  },
  {
   "cell_type": "code",
   "execution_count": 199,
   "id": "6dd7ed64-6ad6-45b2-8f11-4e08798a3b41",
   "metadata": {},
   "outputs": [
    {
     "data": {
      "text/plain": [
       "[<matplotlib.lines.Line2D at 0x1fe69f8ca10>]"
      ]
     },
     "execution_count": 199,
     "metadata": {},
     "output_type": "execute_result"
    },
    {
     "data": {
      "image/png": "[encoded data removed]",
      "text/plain": [
       "<Figure size 640x480 with 1 Axes>"
      ]
     },
     "metadata": {},
     "output_type": "display_data"
    }
   ],
   "source": [
    "plt.plot(history.history['loss'])\n",
    "plt.plot(history.history['val_loss'])"
   ]
  },
  {
   "cell_type": "code",
   "execution_count": 200,
   "id": "be01f1ea-7073-47c0-94a9-eda6a5ba7888",
   "metadata": {},
   "outputs": [
    {
     "data": {
      "text/plain": [
       "[<matplotlib.lines.Line2D at 0x1fe6b038950>]"
      ]
     },
     "execution_count": 200,
     "metadata": {},
     "output_type": "execute_result"
    },
    {
     "data": {
      "image/png": "[encoded data removed]",
      "text/plain": [
       "<Figure size 640x480 with 1 Axes>"
      ]
     },
     "metadata": {},
     "output_type": "display_data"
    }
   ],
   "source": [
    "plt.plot(history.history['r2_score'])\n",
    "plt.plot(history.history['val_r2_score'])"
   ]
  },
  {
   "cell_type": "code",
   "execution_count": null,
   "id": "b64e75cc-ae77-496f-a11c-4e5518b1c0aa",
   "metadata": {},
   "outputs": [],
   "source": []
  }
 ],
 "metadata": {
  "kernelspec": {
   "display_name": "Python [conda env:base] *",
   "language": "python",
   "name": "conda-base-py"
  },
  "language_info": {
   "codemirror_mode": {
    "name": "ipython",
    "version": 3
   },
   "file_extension": ".py",
   "mimetype": "text/x-python",
   "name": "python",
   "nbconvert_exporter": "python",
   "pygments_lexer": "ipython3",
   "version": "3.12.7"
  }
 },
 "nbformat": 4,
 "nbformat_minor": 5
}
